{
  "nbformat": 4,
  "nbformat_minor": 0,
  "metadata": {
    "colab": {
      "provenance": []
    },
    "kernelspec": {
      "name": "python3",
      "display_name": "Python 3"
    },
    "language_info": {
      "name": "python"
    }
  },
  "cells": [
    {
      "cell_type": "code",
      "execution_count": 1,
      "metadata": {
        "id": "QsLX0is17IBD"
      },
      "outputs": [],
      "source": [
        "import numpy as np\n",
        "from scipy.optimize import minimize"
      ]
    },
    {
      "cell_type": "code",
      "source": [
        "def fence_length(l):\n",
        "    x, y = l\n",
        "    return 2 * x + y"
      ],
      "metadata": {
        "id": "M_Onbqbj-ylh"
      },
      "execution_count": 6,
      "outputs": []
    },
    {
      "cell_type": "code",
      "source": [
        "result = minimize(fence_length, ([0], [50]), bounds=((0, None), (0, None)), constraints=({'type': 'eq', 'fun': lambda x: x[0] * x[1] - 1000}))"
      ],
      "metadata": {
        "id": "LO8ADlA1-yr3"
      },
      "execution_count": 9,
      "outputs": []
    },
    {
      "cell_type": "code",
      "source": [
        "result"
      ],
      "metadata": {
        "colab": {
          "base_uri": "https://localhost:8080/"
        },
        "id": "iUURerfJ-ywf",
        "outputId": "8de14233-c7f4-4b2b-9252-1294df27bf93"
      },
      "execution_count": 10,
      "outputs": [
        {
          "output_type": "execute_result",
          "data": {
            "text/plain": [
              "     fun: 89.44271910649056\n",
              "     jac: array([2., 1.])\n",
              " message: 'Optimization terminated successfully'\n",
              "    nfev: 25\n",
              "     nit: 8\n",
              "    njev: 8\n",
              "  status: 0\n",
              " success: True\n",
              "       x: array([22.36097616, 44.72076678])"
            ]
          },
          "metadata": {},
          "execution_count": 10
        }
      ]
    }
  ]
}