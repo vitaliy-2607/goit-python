{
  "nbformat": 4,
  "nbformat_minor": 0,
  "metadata": {
    "colab": {
      "provenance": []
    },
    "kernelspec": {
      "name": "python3",
      "display_name": "Python 3"
    },
    "language_info": {
      "name": "python"
    }
  },
  "cells": [
    {
      "cell_type": "code",
      "source": [
        "import tensorflow as tf\n",
        "from tensorflow.keras.datasets import cifar10\n",
        "import tensorflow.keras as keras\n",
        "import numpy as np\n",
        "from keras import models\n",
        "from keras import layers\n",
        "from keras.preprocessing.image import ImageDataGenerator\n",
        "from keras.layers import *\n",
        "from tensorflow.keras import utils\n",
        "from keras.applications.vgg16 import VGG16\n",
        "from tensorflow.keras.utils import img_to_array\n",
        "from sklearn.model_selection import train_test_split"
      ],
      "metadata": {
        "id": "-nxPwvvknh6F"
      },
      "execution_count": 1,
      "outputs": []
    },
    {
      "cell_type": "code",
      "source": [
        "(x_train, y_train), (x_test, y_test) = cifar10.load_data()"
      ],
      "metadata": {
        "colab": {
          "base_uri": "https://localhost:8080/"
        },
        "id": "ZbW5JOnkn646",
        "outputId": "d1d49bb5-4f6b-4bb0-8319-dca61266959c"
      },
      "execution_count": 2,
      "outputs": [
        {
          "output_type": "stream",
          "name": "stdout",
          "text": [
            "Downloading data from https://www.cs.toronto.edu/~kriz/cifar-10-python.tar.gz\n",
            "170498071/170498071 [==============================] - 4s 0us/step\n"
          ]
        }
      ]
    },
    {
      "cell_type": "code",
      "source": [
        "y_train = utils.to_categorical(y_train)\n",
        "y_test = utils.to_categorical(y_test)"
      ],
      "metadata": {
        "id": "HvAzmV-mn6_4"
      },
      "execution_count": 3,
      "outputs": []
    },
    {
      "cell_type": "code",
      "source": [
        "x_train = np.reshape(x_train, (-1,32,32,3))\n",
        "x_test = np.reshape(x_test, (-1,32,32,3))"
      ],
      "metadata": {
        "id": "fKEE71gin7FU"
      },
      "execution_count": 4,
      "outputs": []
    },
    {
      "cell_type": "code",
      "source": [
        "x_train = tf.image.resize_with_pad(x_train, 80, 80)\n",
        "\n",
        "train_X = np.asarray([img_to_array(im) for im in x_train])\n",
        "\n",
        "x_train, x_val, y_train, y_val = train_test_split(train_X,\n",
        "                                  y_train,\n",
        "                                  test_size=0.2,\n",
        "                                  random_state=13\n",
        ")"
      ],
      "metadata": {
        "id": "O1S_duwIn7JS"
      },
      "execution_count": 5,
      "outputs": []
    },
    {
      "cell_type": "code",
      "source": [
        "train_generator = ImageDataGenerator(\n",
        "      rescale=1./255,\n",
        "      rotation_range=20,\n",
        "      width_shift_range=0.2,\n",
        "      height_shift_range=0.2,\n",
        "      shear_range=0.2,\n",
        "      zoom_range=0.2,\n",
        "      horizontal_flip=True,\n",
        "      fill_mode='nearest'\n",
        ")"
      ],
      "metadata": {
        "id": "rkuZDGken7M9"
      },
      "execution_count": 6,
      "outputs": []
    },
    {
      "cell_type": "code",
      "source": [
        "test_generator = ImageDataGenerator(\n",
        "    rescale=1./255\n",
        ")\n",
        "\n",
        "train_generator.fit(x_train)\n",
        "test_generator.fit(x_val)\n",
        "\n",
        "train_generator = train_generator.flow(x_train,y_train,batch_size=200)\n",
        "test_generator = test_generator.flow(x_val,y_val,batch_size=200)"
      ],
      "metadata": {
        "id": "92cJEQiqn7Pw"
      },
      "execution_count": 7,
      "outputs": []
    },
    {
      "cell_type": "code",
      "source": [
        "conv_base = VGG16(weights='imagenet', include_top=False, input_shape=(80, 80, 3))\n",
        "conv_base.trainable = False"
      ],
      "metadata": {
        "colab": {
          "base_uri": "https://localhost:8080/"
        },
        "id": "nYvm2z3In7TX",
        "outputId": "6db9bf5a-e176-498e-dfd0-45821302a7c0"
      },
      "execution_count": 8,
      "outputs": [
        {
          "output_type": "stream",
          "name": "stdout",
          "text": [
            "Downloading data from https://storage.googleapis.com/tensorflow/keras-applications/vgg16/vgg16_weights_tf_dim_ordering_tf_kernels_notop.h5\n",
            "58889256/58889256 [==============================] - 1s 0us/step\n"
          ]
        }
      ]
    },
    {
      "cell_type": "code",
      "source": [
        "model = models.Sequential([\n",
        "   conv_base,\n",
        "   layers.Flatten(),\n",
        "   layers.Dropout(0.3),\n",
        "   layers.Dense(256, activation=\"relu\"),\n",
        "   layers.Dense(128, activation=\"relu\"),\n",
        "   layers.Dense(10, activation=\"softmax\"),\n",
        "])"
      ],
      "metadata": {
        "id": "ZOQz858qoPXS"
      },
      "execution_count": 9,
      "outputs": []
    },
    {
      "cell_type": "code",
      "source": [
        "model.compile(loss='categorical_crossentropy',\n",
        "              optimizer=keras.optimizers.RMSprop(1e-4),\n",
        "              metrics=['acc'])"
      ],
      "metadata": {
        "id": "HnGJE5WZoPaC"
      },
      "execution_count": 10,
      "outputs": []
    },
    {
      "cell_type": "code",
      "source": [
        "history = model.fit(train_generator,\n",
        "                    epochs=20,\n",
        "                    # steps_per_epoch=1000,\n",
        "                    batch_size=32,\n",
        "                    validation_data=test_generator,\n",
        "                    validation_steps=50,\n",
        "                    shuffle=True,\n",
        "                    )\n",
        "\n",
        "conv_base.trainable = True"
      ],
      "metadata": {
        "id": "eduf1fvWeS_4"
      },
      "execution_count": null,
      "outputs": []
    },
    {
      "cell_type": "code",
      "source": [
        "set_trainable = False\n",
        "for layer in conv_base.layers:\n",
        "    if layer.name == 'block3_conv1':\n",
        "        set_trainable = True\n",
        "    if set_trainable:\n",
        "        layer.trainable = True\n",
        "    else:\n",
        "        layer.trainable = False"
      ],
      "metadata": {
        "id": "0McfjtFQoPgR"
      },
      "execution_count": null,
      "outputs": []
    },
    {
      "cell_type": "code",
      "source": [
        "model = models.Sequential([\n",
        "   conv_base,\n",
        "   layers.Flatten(),\n",
        "   layers.Dropout(0.3),\n",
        "   layers.Dense(256, activation=\"relu\"),\n",
        "   layers.Dense(128, activation=\"relu\"),\n",
        "   layers.Dense(10, activation=\"softmax\"),\n",
        "])"
      ],
      "metadata": {
        "id": "qefpuQKMocSq"
      },
      "execution_count": null,
      "outputs": []
    },
    {
      "cell_type": "code",
      "source": [
        "model.compile(loss='categorical_crossentropy',\n",
        "              optimizer=keras.optimizers.RMSprop(1e-4),\n",
        "              metrics=['acc'])"
      ],
      "metadata": {
        "id": "A4q2oErwocVe"
      },
      "execution_count": null,
      "outputs": []
    },
    {
      "cell_type": "code",
      "source": [
        "history = model.fit(train_generator,\n",
        "                    epochs=20,\n",
        "                    steps_per_epoch=1000,\n",
        "                    batch_size=32,\n",
        "                    validation_data=test_generator,\n",
        "                    validation_steps=50,\n",
        "                    shuffle=True,\n",
        "                    )"
      ],
      "metadata": {
        "id": "BW--7fXLocYE"
      },
      "execution_count": null,
      "outputs": []
    },
    {
      "cell_type": "code",
      "source": [
        "model.save(\"vgg16_cifar10_new.hdf5\")"
      ],
      "metadata": {
        "id": "Qks92bYlocah"
      },
      "execution_count": null,
      "outputs": []
    },
    {
      "cell_type": "code",
      "source": [],
      "metadata": {
        "id": "eoeh3jRdn7WY"
      },
      "execution_count": null,
      "outputs": []
    },
    {
      "cell_type": "code",
      "source": [],
      "metadata": {
        "id": "UritBfmkn7aJ"
      },
      "execution_count": null,
      "outputs": []
    }
  ]
}