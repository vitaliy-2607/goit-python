{
 "cells": [
  {
   "cell_type": "code",
   "execution_count": 46,
   "id": "a92ebe9f",
   "metadata": {},
   "outputs": [
    {
     "name": "stdout",
     "output_type": "stream",
     "text": [
      "В перший банк вкладник поклав [[10000.]] у.о, у другий [[15000.]] y.o, у третій [[25000.]] y.o\n"
     ]
    }
   ],
   "source": [
    "#Вкладчик положил 50000 условных единиц на три разных счета в три разных банка. По первому счету выплаты составят 5% годовых,\n",
    "#по второму – 7% годовых и по третьему 6% годовых. Известно, что через год вкладчик получил по процентам сумму в 2250 у.е.\n",
    "#с первого и второго банка и сумму в 1400 у.е. с первого и третьего банка. Сколько условных единиц он положил на каждый счет\n",
    "#изначально?\n",
    "\n",
    "\n",
    "import numpy as np\n",
    "\n",
    "a = np.matrix(\"0.05,0.07;0.01,0.06\")\n",
    "b = np.matrix(\"2250;1600\")\n",
    "a_inv = np.linalg.inv(a)\n",
    "x = a_inv.dot(b)\n",
    "print(f'В перший банк вкладник поклав {x[0]} у.о, у другий {50000-x[0]-x[1]} y.o, у третій {x[1]} y.o')"
   ]
  },
  {
   "cell_type": "code",
   "execution_count": 2,
   "id": "8685b070",
   "metadata": {},
   "outputs": [
    {
     "name": "stdout",
     "output_type": "stream",
     "text": [
      "[436. 556. 336.]\n"
     ]
    }
   ],
   "source": [
    "#На складе хранятся мобильные телефоны iPhone 6, iPhone 11, iPhone 12 моделей. Всего 1328 экземпляра.\n",
    "#Моделей iPhone 6 на 120 меньше, чем моделей iPhone 11, и на 100 больше, чем моделей iPhone 12.\n",
    "#Сколько моделей каждого вида на складе?\n",
    "\n",
    "\n",
    "import numpy as np\n",
    "\n",
    "a = np.array([[1,1,1],[1,-1,0],[1,0,-1]])\n",
    "b = np.array([1328,-120,100])\n",
    "x = np.linalg.inv(a).dot(b)\n",
    "print(x)"
   ]
  },
  {
   "cell_type": "code",
   "execution_count": 4,
   "id": "bc6cea5d",
   "metadata": {},
   "outputs": [
    {
     "name": "stdout",
     "output_type": "stream",
     "text": [
      "[[0.08249158]\n",
      " [2.02020202]\n",
      " [0.25084175]]\n"
     ]
    }
   ],
   "source": [
    "#Составьте каноническое уравнение эллипсоида, проходящего через три точки A,B,C\n",
    "\n",
    "import numpy as np\n",
    "\n",
    "a = np.matrix(\"3,0,3;6,0.25,0;1,0.33,1\")\n",
    "b = np.matrix(\"1;1;1\")\n",
    "x = np.linalg.solve(a, b)\n",
    "print(x)"
   ]
  },
  {
   "cell_type": "code",
   "execution_count": 62,
   "id": "6c3fd10e",
   "metadata": {},
   "outputs": [
    {
     "name": "stdout",
     "output_type": "stream",
     "text": [
      "[[4.]\n",
      " [5.]\n",
      " [3.]]\n"
     ]
    }
   ],
   "source": [
    "#Составьте уравнение параболы проходящей через заданные три точки (1,12), (3,54), (-1,2).\n",
    "#Необходимо найти коэффициенты уравнения a,b,c\n",
    "\n",
    "\n",
    "import numpy as np\n",
    "\n",
    "a = np.matrix(\"1,1,1;9,3,1;1,-1,1\")\n",
    "b = np.matrix(\"12;54;2\")\n",
    "x = np.linalg.solve(a, b)\n",
    "print(x)"
   ]
  },
  {
   "cell_type": "code",
   "execution_count": 3,
   "id": "45c4b17a",
   "metadata": {},
   "outputs": [
    {
     "name": "stdout",
     "output_type": "stream",
     "text": [
      "[1 1]\n"
     ]
    }
   ],
   "source": [
    "#Составьте функцию get_polynom\n",
    "\n",
    "import numpy as np\n",
    "\n",
    "\n",
    "def get_polynom(coords):\n",
    "    a = []\n",
    "    b = []\n",
    "    for x, y in coords:\n",
    "        row = []\n",
    "        b.append(y)\n",
    "        for i in range(len(coords)):\n",
    "            row.append(x ** i)\n",
    "        a.append(row)\n",
    "    return np.linalg.solve(a, b).astype('int')\n",
    "\n",
    "print(get_polynom([(1,2), (3,4)]))\n"
   ]
  },
  {
   "cell_type": "code",
   "execution_count": null,
   "id": "da9e45b4",
   "metadata": {},
   "outputs": [],
   "source": []
  }
 ],
 "metadata": {
  "kernelspec": {
   "display_name": "Python 3 (ipykernel)",
   "language": "python",
   "name": "python3"
  },
  "language_info": {
   "codemirror_mode": {
    "name": "ipython",
    "version": 3
   },
   "file_extension": ".py",
   "mimetype": "text/x-python",
   "name": "python",
   "nbconvert_exporter": "python",
   "pygments_lexer": "ipython3",
   "version": "3.9.13"
  }
 },
 "nbformat": 4,
 "nbformat_minor": 5
}
