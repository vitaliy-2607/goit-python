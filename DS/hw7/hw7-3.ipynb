{
  "nbformat": 4,
  "nbformat_minor": 0,
  "metadata": {
    "colab": {
      "provenance": []
    },
    "kernelspec": {
      "name": "python3",
      "display_name": "Python 3"
    },
    "language_info": {
      "name": "python"
    }
  },
  "cells": [
    {
      "cell_type": "code",
      "execution_count": 1,
      "metadata": {
        "id": "qp3lpJx-7tsJ"
      },
      "outputs": [],
      "source": [
        "import numpy as np\n",
        "\n",
        "from sklearn.linear_model import LinearRegression\n",
        "from sklearn.model_selection import train_test_split\n",
        "from sklearn.datasets import load_diabetes\n",
        "\n",
        "from sklearn.metrics import classification_report"
      ]
    },
    {
      "cell_type": "code",
      "source": [
        "diab_dataset = load_diabetes()\n",
        "diab_dataset.keys()\n",
        "x = diab_dataset.data\n",
        "y = diab_dataset.target\n",
        "\n",
        "X_train, X_test, y_train, y_test = train_test_split(x, y, test_size=0.3, random_state=42)\n",
        "lin = LinearRegression()\n",
        "lin.fit(X_train, y_train)\n",
        "y_pred = lin.predict(X_test)\n",
        "\n",
        "lin.score(X_test, y_test)"
      ],
      "metadata": {
        "colab": {
          "base_uri": "https://localhost:8080/"
        },
        "id": "uAEPDLuF7xpl",
        "outputId": "57c2b144-3c1e-4ecd-e917-91334d4879ca"
      },
      "execution_count": 2,
      "outputs": [
        {
          "output_type": "execute_result",
          "data": {
            "text/plain": [
              "0.4772897164322617"
            ]
          },
          "metadata": {},
          "execution_count": 2
        }
      ]
    }
  ]
}