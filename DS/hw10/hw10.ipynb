{
  "nbformat": 4,
  "nbformat_minor": 0,
  "metadata": {
    "colab": {
      "provenance": []
    },
    "kernelspec": {
      "name": "python3",
      "display_name": "Python 3"
    },
    "language_info": {
      "name": "python"
    },
    "accelerator": "GPU",
    "gpuClass": "standard"
  },
  "cells": [
    {
      "cell_type": "markdown",
      "metadata": {
        "id": "view-in-github"
      },
      "source": [
        "<a href=\"https://colab.research.google.com/github/SaifuliAnna/DataScience_HW10/blob/main/HW_10(1).ipynb\" target=\"_parent\"><img src=\"https://colab.research.google.com/assets/colab-badge.svg\" alt=\"Open In Colab\"/></a>"
      ]
    },
    {
      "cell_type": "code",
      "source": [
        "import matplotlib.pyplot as plt\n",
        "from keras.datasets import fashion_mnist\n",
        "from keras.optimizers import Adam, RMSprop\n",
        "from keras.models import Sequential\n",
        "from keras.layers import Dense, Flatten, Conv2D, MaxPooling2D\n",
        "from keras import optimizers\n",
        "from keras import losses\n",
        "from keras import metrics"
      ],
      "metadata": {
        "id": "JzJGZhVAgKd9"
      },
      "execution_count": 1,
      "outputs": []
    },
    {
      "cell_type": "code",
      "source": [
        "from keras.layers.regularization.dropout import Dropout\n",
        "from keras.backend import dropout\n",
        "import numpy as np\n",
        "import tensorflow as tf\n",
        "from tensorflow import keras\n",
        "\n",
        "(train_images, train_labels), (test_images, test_labels) = fashion_mnist.load_data()"
      ],
      "metadata": {
        "id": "QGsThdqigCbq",
        "colab": {
          "base_uri": "https://localhost:8080/"
        },
        "outputId": "efb47f53-3c5a-4b02-fcb5-bb1852c4e9e6"
      },
      "execution_count": 2,
      "outputs": [
        {
          "output_type": "stream",
          "name": "stdout",
          "text": [
            "Downloading data from https://storage.googleapis.com/tensorflow/tf-keras-datasets/train-labels-idx1-ubyte.gz\n",
            "29515/29515 [==============================] - 0s 0us/step\n",
            "Downloading data from https://storage.googleapis.com/tensorflow/tf-keras-datasets/train-images-idx3-ubyte.gz\n",
            "26421880/26421880 [==============================] - 2s 0us/step\n",
            "Downloading data from https://storage.googleapis.com/tensorflow/tf-keras-datasets/t10k-labels-idx1-ubyte.gz\n",
            "5148/5148 [==============================] - 0s 0us/step\n",
            "Downloading data from https://storage.googleapis.com/tensorflow/tf-keras-datasets/t10k-images-idx3-ubyte.gz\n",
            "4422102/4422102 [==============================] - 0s 0us/step\n"
          ]
        }
      ]
    },
    {
      "cell_type": "code",
      "source": [
        "model = Sequential([\n",
        "    Conv2D(64, (5, 5), padding=\"same\",\n",
        "\t\t\t\t\tactivation=\"relu\",\n",
        "\t\t\t\t\tinput_shape=(28, 28, 1)),\n",
        "\n",
        "    MaxPooling2D(pool_size=(2, 2)),\n",
        "\n",
        "    Conv2D(128, (5, 5), padding=\"same\",\n",
        "\t\t\t\t\tactivation=\"relu\"),\n",
        "\n",
        "    MaxPooling2D(pool_size=(2, 2)),\n",
        "\t  Conv2D(256, (5, 5), padding=\"same\",\n",
        "\t\t\t\t\tactivation=\"relu\"),\n",
        "\t\n",
        "\t  MaxPooling2D(pool_size=(2, 2)),\n",
        "\n",
        "    Flatten(),\n",
        "    Dense(256, activation='relu', name = 'hidden_1'),\n",
        "\t\tDropout(0.5),\n",
        "\n",
        "    Dense(10, activation='softmax', name = 'output')\n",
        "])"
      ],
      "metadata": {
        "id": "EUCOiSjghkQY"
      },
      "execution_count": 3,
      "outputs": []
    },
    {
      "cell_type": "code",
      "source": [
        "model.compile(optimizer='adam',\n",
        "              loss='sparse_categorical_crossentropy',\n",
        "              metrics=['sparse_categorical_accuracy'])\n"
      ],
      "metadata": {
        "id": "m9ApJPOzhnjR"
      },
      "execution_count": 4,
      "outputs": []
    },
    {
      "cell_type": "code",
      "execution_count": 9,
      "metadata": {
        "colab": {
          "base_uri": "https://localhost:8080/"
        },
        "id": "bneMnzx4erNU",
        "outputId": "0088ea87-ae7c-4ce2-a0ec-271a80fca195"
      },
      "outputs": [
        {
          "output_type": "stream",
          "name": "stdout",
          "text": [
            "Epoch 1/20\n",
            "65/65 [==============================] - 7s 94ms/step - loss: 0.0696 - sparse_categorical_accuracy: 0.9740 - val_loss: 0.2762 - val_sparse_categorical_accuracy: 0.9281\n",
            "Epoch 2/20\n",
            "65/65 [==============================] - 8s 125ms/step - loss: 0.0649 - sparse_categorical_accuracy: 0.9764 - val_loss: 0.2709 - val_sparse_categorical_accuracy: 0.9302\n",
            "Epoch 3/20\n",
            "65/65 [==============================] - 5s 79ms/step - loss: 0.0611 - sparse_categorical_accuracy: 0.9772 - val_loss: 0.3275 - val_sparse_categorical_accuracy: 0.9272\n",
            "Epoch 4/20\n",
            "65/65 [==============================] - 8s 126ms/step - loss: 0.0544 - sparse_categorical_accuracy: 0.9796 - val_loss: 0.3428 - val_sparse_categorical_accuracy: 0.9275\n",
            "Epoch 5/20\n",
            "65/65 [==============================] - 6s 87ms/step - loss: 0.0425 - sparse_categorical_accuracy: 0.9844 - val_loss: 0.3082 - val_sparse_categorical_accuracy: 0.9279\n",
            "Epoch 6/20\n",
            "65/65 [==============================] - 6s 86ms/step - loss: 0.0508 - sparse_categorical_accuracy: 0.9819 - val_loss: 0.3201 - val_sparse_categorical_accuracy: 0.9266\n",
            "Epoch 7/20\n",
            "65/65 [==============================] - 6s 86ms/step - loss: 0.0571 - sparse_categorical_accuracy: 0.9788 - val_loss: 0.3301 - val_sparse_categorical_accuracy: 0.9256\n",
            "Epoch 8/20\n",
            "65/65 [==============================] - 8s 126ms/step - loss: 0.0507 - sparse_categorical_accuracy: 0.9810 - val_loss: 0.3718 - val_sparse_categorical_accuracy: 0.9226\n",
            "Epoch 9/20\n",
            "65/65 [==============================] - 6s 87ms/step - loss: 0.0477 - sparse_categorical_accuracy: 0.9822 - val_loss: 0.3558 - val_sparse_categorical_accuracy: 0.9247\n",
            "Epoch 10/20\n",
            "65/65 [==============================] - 5s 84ms/step - loss: 0.0522 - sparse_categorical_accuracy: 0.9805 - val_loss: 0.3631 - val_sparse_categorical_accuracy: 0.9258\n",
            "Epoch 11/20\n",
            "65/65 [==============================] - 5s 80ms/step - loss: 0.0433 - sparse_categorical_accuracy: 0.9837 - val_loss: 0.3840 - val_sparse_categorical_accuracy: 0.9244\n",
            "Epoch 12/20\n",
            "65/65 [==============================] - 8s 127ms/step - loss: 0.0367 - sparse_categorical_accuracy: 0.9868 - val_loss: 0.3630 - val_sparse_categorical_accuracy: 0.9273\n",
            "Epoch 13/20\n",
            "65/65 [==============================] - 5s 80ms/step - loss: 0.0346 - sparse_categorical_accuracy: 0.9875 - val_loss: 0.3814 - val_sparse_categorical_accuracy: 0.9254\n",
            "Epoch 14/20\n",
            "65/65 [==============================] - 6s 87ms/step - loss: 0.0347 - sparse_categorical_accuracy: 0.9875 - val_loss: 0.4035 - val_sparse_categorical_accuracy: 0.9253\n",
            "Epoch 15/20\n",
            "65/65 [==============================] - 6s 86ms/step - loss: 0.0339 - sparse_categorical_accuracy: 0.9882 - val_loss: 0.4106 - val_sparse_categorical_accuracy: 0.9219\n",
            "Epoch 16/20\n",
            "65/65 [==============================] - 6s 86ms/step - loss: 0.0363 - sparse_categorical_accuracy: 0.9869 - val_loss: 0.4077 - val_sparse_categorical_accuracy: 0.9248\n",
            "Epoch 17/20\n",
            "65/65 [==============================] - 6s 86ms/step - loss: 0.0362 - sparse_categorical_accuracy: 0.9870 - val_loss: 0.4484 - val_sparse_categorical_accuracy: 0.9239\n",
            "Epoch 18/20\n",
            "65/65 [==============================] - 5s 85ms/step - loss: 0.0288 - sparse_categorical_accuracy: 0.9896 - val_loss: 0.4569 - val_sparse_categorical_accuracy: 0.9214\n",
            "Epoch 19/20\n",
            "65/65 [==============================] - 5s 80ms/step - loss: 0.0282 - sparse_categorical_accuracy: 0.9899 - val_loss: 0.4432 - val_sparse_categorical_accuracy: 0.9245\n",
            "Epoch 20/20\n",
            "65/65 [==============================] - 5s 80ms/step - loss: 0.0385 - sparse_categorical_accuracy: 0.9862 - val_loss: 0.4302 - val_sparse_categorical_accuracy: 0.9172\n"
          ]
        }
      ],
      "source": [
        "history = model.fit(\n",
        "\ttrain_images.astype(np.float32), train_labels.astype(np.float32),\n",
        "\tepochs=20,\n",
        "\tsteps_per_epoch=65,\n",
        "\tvalidation_split=0.40\n",
        ")"
      ]
    },
    {
      "cell_type": "code",
      "source": [
        "test_loss, test_acc = model.evaluate(train_images, train_labels)\n",
        "print('Test accuracy:', test_acc)"
      ],
      "metadata": {
        "colab": {
          "base_uri": "https://localhost:8080/"
        },
        "id": "O3qWeDr7hNuX",
        "outputId": "5a7411cc-5c4a-4f37-a980-da8f83a0e57a"
      },
      "execution_count": 10,
      "outputs": [
        {
          "output_type": "stream",
          "name": "stdout",
          "text": [
            "1875/1875 [==============================] - 6s 3ms/step - loss: 0.1895 - sparse_categorical_accuracy: 0.9607\n",
            "Test accuracy: 0.9606500267982483\n"
          ]
        }
      ]
    },
    {
      "cell_type": "code",
      "source": [
        "model.save(\"model\")"
      ],
      "metadata": {
        "colab": {
          "base_uri": "https://localhost:8080/"
        },
        "id": "fuXwtende3bI",
        "outputId": "c5ab1046-1222-4f68-986e-a0ad0afcdb49"
      },
      "execution_count": 11,
      "outputs": [
        {
          "output_type": "stream",
          "name": "stderr",
          "text": [
            "WARNING:absl:Found untraced functions such as _jit_compiled_convolution_op, _jit_compiled_convolution_op, _jit_compiled_convolution_op while saving (showing 3 of 3). These functions will not be directly callable after loading.\n"
          ]
        }
      ]
    }
  ]
}